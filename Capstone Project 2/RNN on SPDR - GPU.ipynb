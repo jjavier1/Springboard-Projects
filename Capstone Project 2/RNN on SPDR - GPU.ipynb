{
 "cells": [
  {
   "cell_type": "markdown",
   "metadata": {},
   "source": [
    "# Time Series Analysis with Recurrent Nueral Networks (Keras)\n",
    "\n",
    "1. Get Data\n",
    "2. Explore Data\n",
    "3. Clean and prepare data\n",
    "4. Split into training and testing sets\n",
    "5. Assemble Model\n",
    "6. Train Model\n",
    "7. Evaluate Model\n",
    "8. Profit?"
   ]
  },
  {
   "cell_type": "code",
   "execution_count": 1,
   "metadata": {},
   "outputs": [
    {
     "name": "stdout",
     "output_type": "stream",
     "text": [
      "Num GPUs Available:  1\n"
     ]
    }
   ],
   "source": [
    "import tensorflow as tf\n",
    "print(\"Num GPUs Available: \", len(tf.config.experimental.list_physical_devices('GPU')))\n",
    "tf.debugging.set_log_device_placement(True)"
   ]
  },
  {
   "cell_type": "code",
   "execution_count": 2,
   "metadata": {},
   "outputs": [
    {
     "name": "stdout",
     "output_type": "stream",
     "text": [
      "[name: \"/device:CPU:0\"\n",
      "device_type: \"CPU\"\n",
      "memory_limit: 268435456\n",
      "locality {\n",
      "}\n",
      "incarnation: 7753650271386366829\n",
      ", name: \"/device:GPU:0\"\n",
      "device_type: \"GPU\"\n",
      "memory_limit: 6661821563\n",
      "locality {\n",
      "  bus_id: 1\n",
      "  links {\n",
      "  }\n",
      "}\n",
      "incarnation: 4221141183645280857\n",
      "physical_device_desc: \"device: 0, name: GeForce GTX 1070 Ti, pci bus id: 0000:07:00.0, compute capability: 6.1\"\n",
      "]\n"
     ]
    }
   ],
   "source": [
    "from tensorflow.python.client import device_lib\n",
    "print(device_lib.list_local_devices())"
   ]
  },
  {
   "cell_type": "markdown",
   "metadata": {},
   "source": [
    "## 1. Get Data"
   ]
  },
  {
   "cell_type": "code",
   "execution_count": 3,
   "metadata": {},
   "outputs": [
    {
     "data": {
      "text/html": [
       "<div>\n",
       "<style scoped>\n",
       "    .dataframe tbody tr th:only-of-type {\n",
       "        vertical-align: middle;\n",
       "    }\n",
       "\n",
       "    .dataframe tbody tr th {\n",
       "        vertical-align: top;\n",
       "    }\n",
       "\n",
       "    .dataframe thead th {\n",
       "        text-align: right;\n",
       "    }\n",
       "</style>\n",
       "<table border=\"1\" class=\"dataframe\">\n",
       "  <thead>\n",
       "    <tr style=\"text-align: right;\">\n",
       "      <th></th>\n",
       "      <th>Open</th>\n",
       "      <th>High</th>\n",
       "      <th>Low</th>\n",
       "      <th>Close</th>\n",
       "      <th>Adj Close</th>\n",
       "      <th>Volume</th>\n",
       "    </tr>\n",
       "  </thead>\n",
       "  <tbody>\n",
       "    <tr>\n",
       "      <td>count</td>\n",
       "      <td>12612.000000</td>\n",
       "      <td>12612.000000</td>\n",
       "      <td>12612.000000</td>\n",
       "      <td>12612.000000</td>\n",
       "      <td>12612.000000</td>\n",
       "      <td>1.261200e+04</td>\n",
       "    </tr>\n",
       "    <tr>\n",
       "      <td>mean</td>\n",
       "      <td>34.427807</td>\n",
       "      <td>34.736840</td>\n",
       "      <td>34.117571</td>\n",
       "      <td>34.438288</td>\n",
       "      <td>22.417428</td>\n",
       "      <td>9.861024e+06</td>\n",
       "    </tr>\n",
       "    <tr>\n",
       "      <td>std</td>\n",
       "      <td>32.104100</td>\n",
       "      <td>32.367123</td>\n",
       "      <td>31.838445</td>\n",
       "      <td>32.113872</td>\n",
       "      <td>26.479900</td>\n",
       "      <td>9.082650e+06</td>\n",
       "    </tr>\n",
       "    <tr>\n",
       "      <td>min</td>\n",
       "      <td>1.714844</td>\n",
       "      <td>1.761719</td>\n",
       "      <td>1.714844</td>\n",
       "      <td>1.714844</td>\n",
       "      <td>0.023546</td>\n",
       "      <td>3.828000e+05</td>\n",
       "    </tr>\n",
       "    <tr>\n",
       "      <td>25%</td>\n",
       "      <td>4.460938</td>\n",
       "      <td>4.492188</td>\n",
       "      <td>4.412110</td>\n",
       "      <td>4.458985</td>\n",
       "      <td>0.114427</td>\n",
       "      <td>3.767900e+06</td>\n",
       "    </tr>\n",
       "    <tr>\n",
       "      <td>50%</td>\n",
       "      <td>17.781250</td>\n",
       "      <td>17.890625</td>\n",
       "      <td>17.671875</td>\n",
       "      <td>17.812500</td>\n",
       "      <td>6.380258</td>\n",
       "      <td>7.158900e+06</td>\n",
       "    </tr>\n",
       "    <tr>\n",
       "      <td>75%</td>\n",
       "      <td>67.305002</td>\n",
       "      <td>68.010000</td>\n",
       "      <td>66.582501</td>\n",
       "      <td>67.389999</td>\n",
       "      <td>46.125944</td>\n",
       "      <td>1.274300e+07</td>\n",
       "    </tr>\n",
       "    <tr>\n",
       "      <td>max</td>\n",
       "      <td>104.419998</td>\n",
       "      <td>104.760002</td>\n",
       "      <td>103.949997</td>\n",
       "      <td>104.379997</td>\n",
       "      <td>80.456619</td>\n",
       "      <td>1.180235e+08</td>\n",
       "    </tr>\n",
       "  </tbody>\n",
       "</table>\n",
       "</div>"
      ],
      "text/plain": [
       "               Open          High           Low         Close     Adj Close  \\\n",
       "count  12612.000000  12612.000000  12612.000000  12612.000000  12612.000000   \n",
       "mean      34.427807     34.736840     34.117571     34.438288     22.417428   \n",
       "std       32.104100     32.367123     31.838445     32.113872     26.479900   \n",
       "min        1.714844      1.761719      1.714844      1.714844      0.023546   \n",
       "25%        4.460938      4.492188      4.412110      4.458985      0.114427   \n",
       "50%       17.781250     17.890625     17.671875     17.812500      6.380258   \n",
       "75%       67.305002     68.010000     66.582501     67.389999     46.125944   \n",
       "max      104.419998    104.760002    103.949997    104.379997     80.456619   \n",
       "\n",
       "             Volume  \n",
       "count  1.261200e+04  \n",
       "mean   9.861024e+06  \n",
       "std    9.082650e+06  \n",
       "min    3.828000e+05  \n",
       "25%    3.767900e+06  \n",
       "50%    7.158900e+06  \n",
       "75%    1.274300e+07  \n",
       "max    1.180235e+08  "
      ]
     },
     "execution_count": 3,
     "metadata": {},
     "output_type": "execute_result"
    }
   ],
   "source": [
    "import matplotlib.pyplot as plt\n",
    "import pandas as pd\n",
    "import numpy as np \n",
    "import math\n",
    "\n",
    "df = pd.read_csv('XOM.csv')\n",
    "df.describe()"
   ]
  },
  {
   "cell_type": "code",
   "execution_count": 4,
   "metadata": {},
   "outputs": [
    {
     "data": {
      "text/plain": [
       "Index(['Date', 'Open', 'High', 'Low', 'Close', 'Adj Close', 'Volume'], dtype='object')"
      ]
     },
     "execution_count": 4,
     "metadata": {},
     "output_type": "execute_result"
    }
   ],
   "source": [
    "df.columns"
   ]
  },
  {
   "cell_type": "code",
   "execution_count": 5,
   "metadata": {},
   "outputs": [
    {
     "name": "stdout",
     "output_type": "stream",
     "text": [
      "<class 'pandas.core.frame.DataFrame'>\n",
      "RangeIndex: 12612 entries, 0 to 12611\n",
      "Data columns (total 7 columns):\n",
      "Date         12612 non-null object\n",
      "Open         12612 non-null float64\n",
      "High         12612 non-null float64\n",
      "Low          12612 non-null float64\n",
      "Close        12612 non-null float64\n",
      "Adj Close    12612 non-null float64\n",
      "Volume       12612 non-null int64\n",
      "dtypes: float64(5), int64(1), object(1)\n",
      "memory usage: 689.8+ KB\n"
     ]
    }
   ],
   "source": [
    "df.info()"
   ]
  },
  {
   "cell_type": "code",
   "execution_count": 6,
   "metadata": {},
   "outputs": [
    {
     "data": {
      "text/html": [
       "<div>\n",
       "<style scoped>\n",
       "    .dataframe tbody tr th:only-of-type {\n",
       "        vertical-align: middle;\n",
       "    }\n",
       "\n",
       "    .dataframe tbody tr th {\n",
       "        vertical-align: top;\n",
       "    }\n",
       "\n",
       "    .dataframe thead th {\n",
       "        text-align: right;\n",
       "    }\n",
       "</style>\n",
       "<table border=\"1\" class=\"dataframe\">\n",
       "  <thead>\n",
       "    <tr style=\"text-align: right;\">\n",
       "      <th></th>\n",
       "      <th>Date</th>\n",
       "      <th>Open</th>\n",
       "      <th>High</th>\n",
       "      <th>Low</th>\n",
       "      <th>Close</th>\n",
       "      <th>Adj Close</th>\n",
       "      <th>Volume</th>\n",
       "    </tr>\n",
       "  </thead>\n",
       "  <tbody>\n",
       "    <tr>\n",
       "      <td>0</td>\n",
       "      <td>1970-08-13</td>\n",
       "      <td>1.957031</td>\n",
       "      <td>1.957031</td>\n",
       "      <td>1.921875</td>\n",
       "      <td>1.925781</td>\n",
       "      <td>0.023546</td>\n",
       "      <td>2828800</td>\n",
       "    </tr>\n",
       "    <tr>\n",
       "      <td>1</td>\n",
       "      <td>1970-08-14</td>\n",
       "      <td>1.925781</td>\n",
       "      <td>1.949219</td>\n",
       "      <td>1.921875</td>\n",
       "      <td>1.941406</td>\n",
       "      <td>0.023737</td>\n",
       "      <td>2867200</td>\n",
       "    </tr>\n",
       "    <tr>\n",
       "      <td>2</td>\n",
       "      <td>1970-08-17</td>\n",
       "      <td>1.941406</td>\n",
       "      <td>1.957031</td>\n",
       "      <td>1.941406</td>\n",
       "      <td>1.953125</td>\n",
       "      <td>0.023880</td>\n",
       "      <td>768000</td>\n",
       "    </tr>\n",
       "    <tr>\n",
       "      <td>3</td>\n",
       "      <td>1970-08-18</td>\n",
       "      <td>1.953125</td>\n",
       "      <td>1.996094</td>\n",
       "      <td>1.953125</td>\n",
       "      <td>1.992188</td>\n",
       "      <td>0.024358</td>\n",
       "      <td>1558400</td>\n",
       "    </tr>\n",
       "    <tr>\n",
       "      <td>4</td>\n",
       "      <td>1970-08-19</td>\n",
       "      <td>2.000000</td>\n",
       "      <td>2.062500</td>\n",
       "      <td>2.000000</td>\n",
       "      <td>2.054688</td>\n",
       "      <td>0.025122</td>\n",
       "      <td>4928000</td>\n",
       "    </tr>\n",
       "  </tbody>\n",
       "</table>\n",
       "</div>"
      ],
      "text/plain": [
       "         Date      Open      High       Low     Close  Adj Close   Volume\n",
       "0  1970-08-13  1.957031  1.957031  1.921875  1.925781   0.023546  2828800\n",
       "1  1970-08-14  1.925781  1.949219  1.921875  1.941406   0.023737  2867200\n",
       "2  1970-08-17  1.941406  1.957031  1.941406  1.953125   0.023880   768000\n",
       "3  1970-08-18  1.953125  1.996094  1.953125  1.992188   0.024358  1558400\n",
       "4  1970-08-19  2.000000  2.062500  2.000000  2.054688   0.025122  4928000"
      ]
     },
     "execution_count": 6,
     "metadata": {},
     "output_type": "execute_result"
    }
   ],
   "source": [
    "df.head()"
   ]
  },
  {
   "cell_type": "code",
   "execution_count": 7,
   "metadata": {},
   "outputs": [
    {
     "data": {
      "text/html": [
       "<div>\n",
       "<style scoped>\n",
       "    .dataframe tbody tr th:only-of-type {\n",
       "        vertical-align: middle;\n",
       "    }\n",
       "\n",
       "    .dataframe tbody tr th {\n",
       "        vertical-align: top;\n",
       "    }\n",
       "\n",
       "    .dataframe thead th {\n",
       "        text-align: right;\n",
       "    }\n",
       "</style>\n",
       "<table border=\"1\" class=\"dataframe\">\n",
       "  <thead>\n",
       "    <tr style=\"text-align: right;\">\n",
       "      <th></th>\n",
       "      <th>Date</th>\n",
       "      <th>Open</th>\n",
       "      <th>High</th>\n",
       "      <th>Low</th>\n",
       "      <th>Close</th>\n",
       "      <th>Adj Close</th>\n",
       "      <th>Volume</th>\n",
       "    </tr>\n",
       "  </thead>\n",
       "  <tbody>\n",
       "    <tr>\n",
       "      <td>12607</td>\n",
       "      <td>2020-08-06</td>\n",
       "      <td>43.400002</td>\n",
       "      <td>43.900002</td>\n",
       "      <td>43.250000</td>\n",
       "      <td>43.639999</td>\n",
       "      <td>42.795731</td>\n",
       "      <td>14434900</td>\n",
       "    </tr>\n",
       "    <tr>\n",
       "      <td>12608</td>\n",
       "      <td>2020-08-07</td>\n",
       "      <td>43.230000</td>\n",
       "      <td>43.520000</td>\n",
       "      <td>42.810001</td>\n",
       "      <td>43.439999</td>\n",
       "      <td>42.599598</td>\n",
       "      <td>18749700</td>\n",
       "    </tr>\n",
       "    <tr>\n",
       "      <td>12609</td>\n",
       "      <td>2020-08-10</td>\n",
       "      <td>43.990002</td>\n",
       "      <td>44.599998</td>\n",
       "      <td>43.599998</td>\n",
       "      <td>44.509998</td>\n",
       "      <td>43.648899</td>\n",
       "      <td>24367800</td>\n",
       "    </tr>\n",
       "    <tr>\n",
       "      <td>12610</td>\n",
       "      <td>2020-08-11</td>\n",
       "      <td>45.500000</td>\n",
       "      <td>46.419998</td>\n",
       "      <td>44.730000</td>\n",
       "      <td>44.970001</td>\n",
       "      <td>44.100002</td>\n",
       "      <td>28987500</td>\n",
       "    </tr>\n",
       "    <tr>\n",
       "      <td>12611</td>\n",
       "      <td>2020-08-12</td>\n",
       "      <td>44.459999</td>\n",
       "      <td>44.939999</td>\n",
       "      <td>43.630001</td>\n",
       "      <td>44.090000</td>\n",
       "      <td>44.090000</td>\n",
       "      <td>22503200</td>\n",
       "    </tr>\n",
       "  </tbody>\n",
       "</table>\n",
       "</div>"
      ],
      "text/plain": [
       "             Date       Open       High        Low      Close  Adj Close  \\\n",
       "12607  2020-08-06  43.400002  43.900002  43.250000  43.639999  42.795731   \n",
       "12608  2020-08-07  43.230000  43.520000  42.810001  43.439999  42.599598   \n",
       "12609  2020-08-10  43.990002  44.599998  43.599998  44.509998  43.648899   \n",
       "12610  2020-08-11  45.500000  46.419998  44.730000  44.970001  44.100002   \n",
       "12611  2020-08-12  44.459999  44.939999  43.630001  44.090000  44.090000   \n",
       "\n",
       "         Volume  \n",
       "12607  14434900  \n",
       "12608  18749700  \n",
       "12609  24367800  \n",
       "12610  28987500  \n",
       "12611  22503200  "
      ]
     },
     "execution_count": 7,
     "metadata": {},
     "output_type": "execute_result"
    }
   ],
   "source": [
    "df.tail()"
   ]
  },
  {
   "cell_type": "markdown",
   "metadata": {},
   "source": [
    "## 2. Explore Data"
   ]
  },
  {
   "cell_type": "code",
   "execution_count": 8,
   "metadata": {},
   "outputs": [
    {
     "name": "stderr",
     "output_type": "stream",
     "text": [
      "C:\\Users\\Joe\\Anaconda3\\lib\\site-packages\\pandas\\plotting\\_matplotlib\\converter.py:103: FutureWarning: Using an implicitly registered datetime converter for a matplotlib plotting method. The converter was registered by pandas on import. Future versions of pandas will require you to explicitly register matplotlib converters.\n",
      "\n",
      "To register the converters:\n",
      "\t>>> from pandas.plotting import register_matplotlib_converters\n",
      "\t>>> register_matplotlib_converters()\n",
      "  warnings.warn(msg, FutureWarning)\n"
     ]
    },
    {
     "data": {
      "image/png": "[encoded data removed]",
      "text/plain": [
       "<Figure size 1152x576 with 1 Axes>"
      ]
     },
     "metadata": {
      "needs_background": "light"
     },
     "output_type": "display_data"
    }
   ],
   "source": [
    "df['Date'] = pd.to_datetime(df['Date']) \n",
    "x = df.Date\n",
    "Y = df['Adj Close']\n",
    "\n",
    "plt.figure(figsize=[16,8])\n",
    "plt.plot(x,Y)\n",
    "plt.xlabel('Year',fontsize=20)\n",
    "plt.ylabel('Price',fontsize=20)\n",
    "plt.title('Adjusted Close',fontsize=20)\n",
    "plt.show()\n"
   ]
  },
  {
   "cell_type": "code",
   "execution_count": 9,
   "metadata": {},
   "outputs": [
    {
     "data": {
      "image/png": "[encoded data removed]",
      "text/plain": [
       "<Figure size 1152x576 with 1 Axes>"
      ]
     },
     "metadata": {
      "needs_background": "light"
     },
     "output_type": "display_data"
    }
   ],
   "source": [
    "plt.figure(figsize=[16,8])\n",
    "plt.plot(x,Y)\n",
    "plt.xlabel('Year',fontsize=20)\n",
    "plt.ylabel('Price',fontsize=20)\n",
    "plt.title('Adjusted Close (Log)',fontsize=20)\n",
    "plt.yscale('log')\n",
    "plt.show()"
   ]
  },
  {
   "cell_type": "code",
   "execution_count": 10,
   "metadata": {},
   "outputs": [
    {
     "data": {
      "text/html": [
       "<div>\n",
       "<style scoped>\n",
       "    .dataframe tbody tr th:only-of-type {\n",
       "        vertical-align: middle;\n",
       "    }\n",
       "\n",
       "    .dataframe tbody tr th {\n",
       "        vertical-align: top;\n",
       "    }\n",
       "\n",
       "    .dataframe thead th {\n",
       "        text-align: right;\n",
       "    }\n",
       "</style>\n",
       "<table border=\"1\" class=\"dataframe\">\n",
       "  <thead>\n",
       "    <tr style=\"text-align: right;\">\n",
       "      <th></th>\n",
       "      <th>Adj Close</th>\n",
       "      <th>Adj Volume</th>\n",
       "      <th>Adj High</th>\n",
       "      <th>Adj Low</th>\n",
       "    </tr>\n",
       "  </thead>\n",
       "  <tbody>\n",
       "    <tr>\n",
       "      <td>0</td>\n",
       "      <td>0.023546</td>\n",
       "      <td>2828800</td>\n",
       "      <td>0.023928</td>\n",
       "      <td>0.023498</td>\n",
       "    </tr>\n",
       "    <tr>\n",
       "      <td>1</td>\n",
       "      <td>0.023737</td>\n",
       "      <td>2867200</td>\n",
       "      <td>0.023833</td>\n",
       "      <td>0.023498</td>\n",
       "    </tr>\n",
       "    <tr>\n",
       "      <td>2</td>\n",
       "      <td>0.023880</td>\n",
       "      <td>768000</td>\n",
       "      <td>0.023928</td>\n",
       "      <td>0.023737</td>\n",
       "    </tr>\n",
       "    <tr>\n",
       "      <td>3</td>\n",
       "      <td>0.024358</td>\n",
       "      <td>1558400</td>\n",
       "      <td>0.024406</td>\n",
       "      <td>0.023880</td>\n",
       "    </tr>\n",
       "    <tr>\n",
       "      <td>4</td>\n",
       "      <td>0.025122</td>\n",
       "      <td>4928000</td>\n",
       "      <td>0.025218</td>\n",
       "      <td>0.024453</td>\n",
       "    </tr>\n",
       "  </tbody>\n",
       "</table>\n",
       "</div>"
      ],
      "text/plain": [
       "   Adj Close  Adj Volume  Adj High   Adj Low\n",
       "0   0.023546     2828800  0.023928  0.023498\n",
       "1   0.023737     2867200  0.023833  0.023498\n",
       "2   0.023880      768000  0.023928  0.023737\n",
       "3   0.024358     1558400  0.024406  0.023880\n",
       "4   0.025122     4928000  0.025218  0.024453"
      ]
     },
     "execution_count": 10,
     "metadata": {},
     "output_type": "execute_result"
    }
   ],
   "source": [
    "df['Adj High'] = (df['Adj Close']/df['Close'])*df['High']\n",
    "df['Adj Low'] = (df['Adj Close']/df['Close'])*df['Low']\n",
    "df['Adj Volume'] = df['Volume']\n",
    "\n",
    "data=df[['Adj Close','Adj Volume','Adj High','Adj Low']]\n",
    "data.head()"
   ]
  },
  {
   "cell_type": "code",
   "execution_count": 11,
   "metadata": {},
   "outputs": [
    {
     "data": {
      "image/png": "[encoded data removed]",
      "text/plain": [
       "<Figure size 1152x576 with 1 Axes>"
      ]
     },
     "metadata": {
      "needs_background": "light"
     },
     "output_type": "display_data"
    }
   ],
   "source": [
    "from scipy.stats import norm\n",
    "\n",
    "mu = 0\n",
    "sigma = 20 \n",
    "x = np.linspace(mu - 3*sigma, mu + 3*sigma, 100)\n",
    "\n",
    "plt.figure(figsize=[16,8])\n",
    "plt.plot(x,5*norm.pdf(x,loc=mu,scale=sigma))\n",
    "plt.hist(data['Adj Close'],bins='auto',density=True)\n",
    "plt.xlabel('Prices',fontsize=20)\n",
    "plt.ylabel('Frequency',fontsize=20)\n",
    "plt.title('Problem with Predicting Price Itself', fontsize=20)\n",
    "plt.show()"
   ]
  },
  {
   "cell_type": "code",
   "execution_count": 12,
   "metadata": {},
   "outputs": [
    {
     "data": {
      "image/png": "[encoded data removed]",
      "text/plain": [
       "<Figure size 1152x576 with 1 Axes>"
      ]
     },
     "metadata": {
      "needs_background": "light"
     },
     "output_type": "display_data"
    }
   ],
   "source": [
    "from scipy.stats import lognorm\n",
    "\n",
    "stddev = 1\n",
    "mean = 0 \n",
    "dist=lognorm([stddev],loc=mean)\n",
    "\n",
    "x = np.linspace(0,6,200)\n",
    "plt.figure(figsize=[16,8])\n",
    "plt.plot(x,dist.pdf(x),label='pdf')\n",
    "plt.plot(x,dist.cdf(x),label='cdf')\n",
    "plt.xlabel('Prices',fontsize=20)\n",
    "plt.ylabel('Frequency',fontsize=20)\n",
    "plt.title('Lognormal Distribution', fontsize=20)\n",
    "plt.legend(loc='best')\n",
    "plt.show()"
   ]
  },
  {
   "cell_type": "markdown",
   "metadata": {},
   "source": [
    "## 3. Clean and Prepare Data"
   ]
  },
  {
   "cell_type": "code",
   "execution_count": 13,
   "metadata": {},
   "outputs": [
    {
     "name": "stderr",
     "output_type": "stream",
     "text": [
      "C:\\Users\\Joe\\Anaconda3\\lib\\site-packages\\pandas\\core\\series.py:853: RuntimeWarning: invalid value encountered in log\n",
      "  result = getattr(ufunc, method)(*inputs, **kwargs)\n",
      "C:\\Users\\Joe\\Anaconda3\\lib\\site-packages\\pandas\\core\\indexing.py:376: SettingWithCopyWarning: \n",
      "A value is trying to be set on a copy of a slice from a DataFrame.\n",
      "Try using .loc[row_indexer,col_indexer] = value instead\n",
      "\n",
      "See the caveats in the documentation: http://pandas.pydata.org/pandas-docs/stable/user_guide/indexing.html#returning-a-view-versus-a-copy\n",
      "  self.obj[key] = _infer_fill_value(value)\n",
      "C:\\Users\\Joe\\Anaconda3\\lib\\site-packages\\pandas\\core\\indexing.py:494: SettingWithCopyWarning: \n",
      "A value is trying to be set on a copy of a slice from a DataFrame.\n",
      "Try using .loc[row_indexer,col_indexer] = value instead\n",
      "\n",
      "See the caveats in the documentation: http://pandas.pydata.org/pandas-docs/stable/user_guide/indexing.html#returning-a-view-versus-a-copy\n",
      "  self.obj[item] = s\n"
     ]
    },
    {
     "data": {
      "text/html": [
       "<div>\n",
       "<style scoped>\n",
       "    .dataframe tbody tr th:only-of-type {\n",
       "        vertical-align: middle;\n",
       "    }\n",
       "\n",
       "    .dataframe tbody tr th {\n",
       "        vertical-align: top;\n",
       "    }\n",
       "\n",
       "    .dataframe thead th {\n",
       "        text-align: right;\n",
       "    }\n",
       "</style>\n",
       "<table border=\"1\" class=\"dataframe\">\n",
       "  <thead>\n",
       "    <tr style=\"text-align: right;\">\n",
       "      <th></th>\n",
       "      <th>Adj Close</th>\n",
       "      <th>Adj Volume</th>\n",
       "      <th>Adj High</th>\n",
       "      <th>Adj Low</th>\n",
       "      <th>dailyReturn</th>\n",
       "      <th>weeklyReturn</th>\n",
       "      <th>dailyHL</th>\n",
       "      <th>weeklyHL</th>\n",
       "    </tr>\n",
       "  </thead>\n",
       "  <tbody>\n",
       "    <tr>\n",
       "      <td>0</td>\n",
       "      <td>0.023546</td>\n",
       "      <td>2828800</td>\n",
       "      <td>0.023928</td>\n",
       "      <td>0.023498</td>\n",
       "      <td>NaN</td>\n",
       "      <td>NaN</td>\n",
       "      <td>0.018127</td>\n",
       "      <td>NaN</td>\n",
       "    </tr>\n",
       "    <tr>\n",
       "      <td>1</td>\n",
       "      <td>0.023737</td>\n",
       "      <td>2867200</td>\n",
       "      <td>0.023833</td>\n",
       "      <td>0.023498</td>\n",
       "      <td>0.008079</td>\n",
       "      <td>NaN</td>\n",
       "      <td>0.014128</td>\n",
       "      <td>NaN</td>\n",
       "    </tr>\n",
       "    <tr>\n",
       "      <td>2</td>\n",
       "      <td>0.023880</td>\n",
       "      <td>768000</td>\n",
       "      <td>0.023928</td>\n",
       "      <td>0.023737</td>\n",
       "      <td>0.006006</td>\n",
       "      <td>NaN</td>\n",
       "      <td>0.008016</td>\n",
       "      <td>NaN</td>\n",
       "    </tr>\n",
       "    <tr>\n",
       "      <td>3</td>\n",
       "      <td>0.024358</td>\n",
       "      <td>1558400</td>\n",
       "      <td>0.024406</td>\n",
       "      <td>0.023880</td>\n",
       "      <td>0.019819</td>\n",
       "      <td>NaN</td>\n",
       "      <td>0.021762</td>\n",
       "      <td>NaN</td>\n",
       "    </tr>\n",
       "    <tr>\n",
       "      <td>4</td>\n",
       "      <td>0.025122</td>\n",
       "      <td>4928000</td>\n",
       "      <td>0.025218</td>\n",
       "      <td>0.024453</td>\n",
       "      <td>0.030884</td>\n",
       "      <td>NaN</td>\n",
       "      <td>0.030772</td>\n",
       "      <td>NaN</td>\n",
       "    </tr>\n",
       "    <tr>\n",
       "      <td>5</td>\n",
       "      <td>0.024931</td>\n",
       "      <td>2262400</td>\n",
       "      <td>0.025170</td>\n",
       "      <td>0.024644</td>\n",
       "      <td>-0.007632</td>\n",
       "      <td>0.057156</td>\n",
       "      <td>0.021094</td>\n",
       "      <td>0.070615</td>\n",
       "    </tr>\n",
       "    <tr>\n",
       "      <td>6</td>\n",
       "      <td>0.025409</td>\n",
       "      <td>3811200</td>\n",
       "      <td>0.025457</td>\n",
       "      <td>0.025075</td>\n",
       "      <td>0.018991</td>\n",
       "      <td>0.068068</td>\n",
       "      <td>0.015123</td>\n",
       "      <td>0.080057</td>\n",
       "    </tr>\n",
       "    <tr>\n",
       "      <td>7</td>\n",
       "      <td>0.025600</td>\n",
       "      <td>4243200</td>\n",
       "      <td>0.025887</td>\n",
       "      <td>0.025313</td>\n",
       "      <td>0.007489</td>\n",
       "      <td>0.069551</td>\n",
       "      <td>0.022389</td>\n",
       "      <td>0.086701</td>\n",
       "    </tr>\n",
       "    <tr>\n",
       "      <td>8</td>\n",
       "      <td>0.025361</td>\n",
       "      <td>2841600</td>\n",
       "      <td>0.025504</td>\n",
       "      <td>0.025027</td>\n",
       "      <td>-0.009380</td>\n",
       "      <td>0.040352</td>\n",
       "      <td>0.018904</td>\n",
       "      <td>0.080667</td>\n",
       "    </tr>\n",
       "    <tr>\n",
       "      <td>9</td>\n",
       "      <td>0.025313</td>\n",
       "      <td>3043200</td>\n",
       "      <td>0.025409</td>\n",
       "      <td>0.025217</td>\n",
       "      <td>-0.001894</td>\n",
       "      <td>0.007574</td>\n",
       "      <td>0.007547</td>\n",
       "      <td>0.056957</td>\n",
       "    </tr>\n",
       "    <tr>\n",
       "      <td>10</td>\n",
       "      <td>0.025122</td>\n",
       "      <td>2585600</td>\n",
       "      <td>0.025313</td>\n",
       "      <td>0.025026</td>\n",
       "      <td>-0.007574</td>\n",
       "      <td>0.007632</td>\n",
       "      <td>0.011386</td>\n",
       "      <td>0.049173</td>\n",
       "    </tr>\n",
       "    <tr>\n",
       "      <td>11</td>\n",
       "      <td>0.025265</td>\n",
       "      <td>1324800</td>\n",
       "      <td>0.025361</td>\n",
       "      <td>0.025122</td>\n",
       "      <td>0.005676</td>\n",
       "      <td>-0.005683</td>\n",
       "      <td>0.009461</td>\n",
       "      <td>0.033790</td>\n",
       "    </tr>\n",
       "  </tbody>\n",
       "</table>\n",
       "</div>"
      ],
      "text/plain": [
       "    Adj Close  Adj Volume  Adj High   Adj Low  dailyReturn  weeklyReturn  \\\n",
       "0    0.023546     2828800  0.023928  0.023498          NaN           NaN   \n",
       "1    0.023737     2867200  0.023833  0.023498     0.008079           NaN   \n",
       "2    0.023880      768000  0.023928  0.023737     0.006006           NaN   \n",
       "3    0.024358     1558400  0.024406  0.023880     0.019819           NaN   \n",
       "4    0.025122     4928000  0.025218  0.024453     0.030884           NaN   \n",
       "5    0.024931     2262400  0.025170  0.024644    -0.007632      0.057156   \n",
       "6    0.025409     3811200  0.025457  0.025075     0.018991      0.068068   \n",
       "7    0.025600     4243200  0.025887  0.025313     0.007489      0.069551   \n",
       "8    0.025361     2841600  0.025504  0.025027    -0.009380      0.040352   \n",
       "9    0.025313     3043200  0.025409  0.025217    -0.001894      0.007574   \n",
       "10   0.025122     2585600  0.025313  0.025026    -0.007574      0.007632   \n",
       "11   0.025265     1324800  0.025361  0.025122     0.005676     -0.005683   \n",
       "\n",
       "     dailyHL  weeklyHL  \n",
       "0   0.018127       NaN  \n",
       "1   0.014128       NaN  \n",
       "2   0.008016       NaN  \n",
       "3   0.021762       NaN  \n",
       "4   0.030772       NaN  \n",
       "5   0.021094  0.070615  \n",
       "6   0.015123  0.080057  \n",
       "7   0.022389  0.086701  \n",
       "8   0.018904  0.080667  \n",
       "9   0.007547  0.056957  \n",
       "10  0.011386  0.049173  \n",
       "11  0.009461  0.033790  "
      ]
     },
     "execution_count": 13,
     "metadata": {},
     "output_type": "execute_result"
    }
   ],
   "source": [
    "dataCopy = data.copy()\n",
    "\n",
    "data.loc[:,('dailyReturn')] = np.log(dataCopy.loc[:,('Adj Close')]/dataCopy.loc[:,('Adj Close')].shift(1))\n",
    "data.loc[:,'weeklyReturn'] = np.log(dataCopy.loc[:,'Adj Close']/dataCopy.loc[:,'Adj Close'].shift(5))\n",
    "data.loc[:,'dailyHL'] = np.log(dataCopy.loc[:,'Adj High']/dataCopy['Adj Low'])\n",
    "data.loc[:,'weeklyHL'] = np.log(dataCopy.loc[:,'Adj High'].rolling(6).max()/dataCopy.loc[:,'Adj Low'].rolling(6).min())\n",
    "data.head(12)"
   ]
  },
  {
   "cell_type": "code",
   "execution_count": 14,
   "metadata": {},
   "outputs": [
    {
     "data": {
      "text/html": [
       "<div>\n",
       "<style scoped>\n",
       "    .dataframe tbody tr th:only-of-type {\n",
       "        vertical-align: middle;\n",
       "    }\n",
       "\n",
       "    .dataframe tbody tr th {\n",
       "        vertical-align: top;\n",
       "    }\n",
       "\n",
       "    .dataframe thead th {\n",
       "        text-align: right;\n",
       "    }\n",
       "</style>\n",
       "<table border=\"1\" class=\"dataframe\">\n",
       "  <thead>\n",
       "    <tr style=\"text-align: right;\">\n",
       "      <th></th>\n",
       "      <th>Adj Close</th>\n",
       "      <th>Adj Volume</th>\n",
       "      <th>Adj High</th>\n",
       "      <th>Adj Low</th>\n",
       "      <th>dailyReturn</th>\n",
       "      <th>weeklyReturn</th>\n",
       "      <th>dailyHL</th>\n",
       "      <th>weeklyHL</th>\n",
       "    </tr>\n",
       "  </thead>\n",
       "  <tbody>\n",
       "    <tr>\n",
       "      <td>5</td>\n",
       "      <td>0.024931</td>\n",
       "      <td>2262400</td>\n",
       "      <td>0.025170</td>\n",
       "      <td>0.024644</td>\n",
       "      <td>-0.007632</td>\n",
       "      <td>0.057156</td>\n",
       "      <td>0.021094</td>\n",
       "      <td>0.070615</td>\n",
       "    </tr>\n",
       "    <tr>\n",
       "      <td>6</td>\n",
       "      <td>0.025409</td>\n",
       "      <td>3811200</td>\n",
       "      <td>0.025457</td>\n",
       "      <td>0.025075</td>\n",
       "      <td>0.018991</td>\n",
       "      <td>0.068068</td>\n",
       "      <td>0.015123</td>\n",
       "      <td>0.080057</td>\n",
       "    </tr>\n",
       "    <tr>\n",
       "      <td>7</td>\n",
       "      <td>0.025600</td>\n",
       "      <td>4243200</td>\n",
       "      <td>0.025887</td>\n",
       "      <td>0.025313</td>\n",
       "      <td>0.007489</td>\n",
       "      <td>0.069551</td>\n",
       "      <td>0.022389</td>\n",
       "      <td>0.086701</td>\n",
       "    </tr>\n",
       "    <tr>\n",
       "      <td>8</td>\n",
       "      <td>0.025361</td>\n",
       "      <td>2841600</td>\n",
       "      <td>0.025504</td>\n",
       "      <td>0.025027</td>\n",
       "      <td>-0.009380</td>\n",
       "      <td>0.040352</td>\n",
       "      <td>0.018904</td>\n",
       "      <td>0.080667</td>\n",
       "    </tr>\n",
       "    <tr>\n",
       "      <td>9</td>\n",
       "      <td>0.025313</td>\n",
       "      <td>3043200</td>\n",
       "      <td>0.025409</td>\n",
       "      <td>0.025217</td>\n",
       "      <td>-0.001894</td>\n",
       "      <td>0.007574</td>\n",
       "      <td>0.007547</td>\n",
       "      <td>0.056957</td>\n",
       "    </tr>\n",
       "  </tbody>\n",
       "</table>\n",
       "</div>"
      ],
      "text/plain": [
       "   Adj Close  Adj Volume  Adj High   Adj Low  dailyReturn  weeklyReturn  \\\n",
       "5   0.024931     2262400  0.025170  0.024644    -0.007632      0.057156   \n",
       "6   0.025409     3811200  0.025457  0.025075     0.018991      0.068068   \n",
       "7   0.025600     4243200  0.025887  0.025313     0.007489      0.069551   \n",
       "8   0.025361     2841600  0.025504  0.025027    -0.009380      0.040352   \n",
       "9   0.025313     3043200  0.025409  0.025217    -0.001894      0.007574   \n",
       "\n",
       "    dailyHL  weeklyHL  \n",
       "5  0.021094  0.070615  \n",
       "6  0.015123  0.080057  \n",
       "7  0.022389  0.086701  \n",
       "8  0.018904  0.080667  \n",
       "9  0.007547  0.056957  "
      ]
     },
     "execution_count": 14,
     "metadata": {},
     "output_type": "execute_result"
    }
   ],
   "source": [
    "data = data.dropna(how='any')\n",
    "data.head()"
   ]
  },
  {
   "cell_type": "code",
   "execution_count": 15,
   "metadata": {},
   "outputs": [],
   "source": [
    "def toTimeSeries(df,columns,n_trail=1,n_lead=1):\n",
    "    df = df[columns]\n",
    "    n_columns=len(columns)\n",
    "    cols=[]\n",
    "    names=[]\n",
    "    \n",
    "    # Create trailing columns\n",
    "    for i in range(n_trail,0,-1):\n",
    "        cols.append(df.shift(i))\n",
    "        names += [(columns[j]+'(t-%d)'%(i))  for j in range(n_columns)]\n",
    "        \n",
    "    # Create leading columns\n",
    "    for i in range(0,n_lead+1):\n",
    "        cols.append(df.shift(-i))\n",
    "        names += [(columns[j]+'(t+%d)'%(i))  for j in range(n_columns)]\n",
    "        \n",
    "    agg = pd.concat(cols,axis=1)\n",
    "    agg.columns = names\n",
    "    \n",
    "    # Clean up NaN rows\n",
    "    agg.dropna(inplace=True)\n",
    "    \n",
    "    return agg"
   ]
  },
  {
   "cell_type": "code",
   "execution_count": 16,
   "metadata": {},
   "outputs": [
    {
     "name": "stdout",
     "output_type": "stream",
     "text": [
      "    dailyReturn(t-5)  weeklyReturn(t-5)  dailyHL(t-5)  weeklyHL(t-5)  \\\n",
      "10         -0.007632           0.057156      0.021094       0.070615   \n",
      "11          0.018991           0.068068      0.015123       0.080057   \n",
      "12          0.007489           0.069551      0.022389       0.086701   \n",
      "13         -0.009380           0.040352      0.018904       0.080667   \n",
      "14         -0.001894           0.007574      0.007547       0.056957   \n",
      "\n",
      "    dailyReturn(t-4)  weeklyReturn(t-4)  dailyHL(t-4)  weeklyHL(t-4)  \\\n",
      "10          0.018991           0.068068      0.015123       0.080057   \n",
      "11          0.007489           0.069551      0.022389       0.086701   \n",
      "12         -0.009380           0.040352      0.018904       0.080667   \n",
      "13         -0.001894           0.007574      0.007547       0.056957   \n",
      "14         -0.007574           0.007632      0.011386       0.049173   \n",
      "\n",
      "    dailyReturn(t-3)  weeklyReturn(t-3)  ...  dailyHL(t+3)  weeklyHL(t+3)  \\\n",
      "10          0.007489           0.069551  ...      0.009552       0.024652   \n",
      "11         -0.009380           0.040352  ...      0.009643       0.030541   \n",
      "12         -0.001894           0.007574  ...      0.011494       0.028651   \n",
      "13         -0.007574           0.007632  ...      0.026367       0.041774   \n",
      "14          0.005676          -0.005683  ...      0.020814       0.041774   \n",
      "\n",
      "    dailyReturn(t+4)  weeklyReturn(t+4)  dailyHL(t+4)  weeklyHL(t+4)  \\\n",
      "10         -0.009633          -0.024839      0.009643       0.030541   \n",
      "11          0.013436          -0.003829      0.011494       0.028651   \n",
      "12          0.022677           0.013172      0.026367       0.041774   \n",
      "13         -0.024557          -0.007617      0.020814       0.041774   \n",
      "14         -0.001923           0.000000      0.030950       0.055425   \n",
      "\n",
      "    dailyReturn(t+5)  weeklyReturn(t+5)  dailyHL(t+5)  weeklyHL(t+5)  \n",
      "10          0.013436          -0.003829      0.011494       0.028651  \n",
      "11          0.022677           0.013172      0.026367       0.041774  \n",
      "12         -0.024557          -0.007617      0.020814       0.041774  \n",
      "13         -0.001923           0.000000      0.030950       0.055425  \n",
      "14          0.000000           0.009633      0.009569       0.055425  \n",
      "\n",
      "[5 rows x 44 columns]\n"
     ]
    }
   ],
   "source": [
    "n_trail = 5\n",
    "n_lead = 5\n",
    "columns = ['dailyReturn','weeklyReturn','dailyHL','weeklyHL']\n",
    "\n",
    "reframed = toTimeSeries(data,columns,n_trail,n_lead)\n",
    "print(reframed.head())"
   ]
  },
  {
   "cell_type": "markdown",
   "metadata": {},
   "source": [
    "## 4. Split in Training and Testing Data"
   ]
  },
  {
   "cell_type": "code",
   "execution_count": 17,
   "metadata": {},
   "outputs": [
    {
     "name": "stdout",
     "output_type": "stream",
     "text": [
      "(9478, 44)\n",
      "(9478, 24)\n",
      "(9478, 6, 4) (9478, 16) (3119, 6, 4) (3119, 16)\n",
      "(9478, 6, 4) (9478, 4) (3119, 6, 4) (3119, 4)\n"
     ]
    }
   ],
   "source": [
    "values = reframed.values\n",
    "\n",
    "trainTestSplit = 0.75\n",
    "\n",
    "mask = np.random.rand(len(values)) < trainTestSplit\n",
    "\n",
    "train = values[mask,:]\n",
    "test = values[~mask,:]\n",
    "print(train.shape)\n",
    "\n",
    "# Number of features\n",
    "n_columns = len(columns)\n",
    "n_features = (n_lead - 1) * n_columns\n",
    "n_periods = n_trail + 1\n",
    "\n",
    "# Number of periods in observation\n",
    "n_obs = n_periods * n_columns\n",
    "\n",
    "# Assign test and training sets\n",
    "X_train, Y_train = train[:,0:n_obs], train[:,-n_features:]\n",
    "print(X_train.shape)\n",
    "X_train = X_train.reshape((X_train.shape[0], n_periods, n_columns))\n",
    "\n",
    "X_test, Y_test = test[:,0:n_obs], test[:,-n_features:]\n",
    "X_test = X_test.reshape((X_test.shape[0], n_periods, n_columns))\n",
    "print(X_train.shape, Y_train.shape, X_test.shape, Y_test.shape)\n",
    "\n",
    "new_train = []\n",
    "for i, train in enumerate(Y_train):\n",
    "    new_train.append(Y_train[i][-n_columns:].tolist())\n",
    "Y_train = np.array(new_train)\n",
    "\n",
    "new_test = []\n",
    "for i, test in enumerate(Y_test):\n",
    "    new_test.append(Y_test[i][-n_columns:].tolist())\n",
    "Y_test = np.array(new_test)\n",
    "\n",
    "print(X_train.shape, Y_train.shape, X_test.shape, Y_test.shape)"
   ]
  },
  {
   "cell_type": "markdown",
   "metadata": {},
   "source": [
    "## 5. Assemble the Model"
   ]
  },
  {
   "cell_type": "code",
   "execution_count": 18,
   "metadata": {},
   "outputs": [
    {
     "name": "stderr",
     "output_type": "stream",
     "text": [
      "Using TensorFlow backend.\n"
     ]
    },
    {
     "name": "stdout",
     "output_type": "stream",
     "text": [
      "Executing op RandomUniform in device /job:localhost/replica:0/task:0/device:GPU:0\n",
      "Executing op Sub in device /job:localhost/replica:0/task:0/device:GPU:0\n",
      "Executing op Mul in device /job:localhost/replica:0/task:0/device:GPU:0\n",
      "Executing op Add in device /job:localhost/replica:0/task:0/device:GPU:0\n",
      "Executing op VarHandleOp in device /job:localhost/replica:0/task:0/device:GPU:0\n",
      "Executing op VarIsInitializedOp in device /job:localhost/replica:0/task:0/device:GPU:0\n",
      "Executing op LogicalNot in device /job:localhost/replica:0/task:0/device:GPU:0\n",
      "Executing op Assert in device /job:localhost/replica:0/task:0/device:GPU:0\n",
      "Executing op AssignVariableOp in device /job:localhost/replica:0/task:0/device:GPU:0\n",
      "Executing op VarHandleOp in device /job:localhost/replica:0/task:0/device:GPU:0\n",
      "Executing op Fill in device /job:localhost/replica:0/task:0/device:GPU:0\n",
      "Executing op ConcatV2 in device /job:localhost/replica:0/task:0/device:GPU:0\n",
      "Executing op VarHandleOp in device /job:localhost/replica:0/task:0/device:GPU:0\n",
      "Executing op RandomUniform in device /job:localhost/replica:0/task:0/device:GPU:0\n",
      "Executing op RandomUniform in device /job:localhost/replica:0/task:0/device:GPU:0\n",
      "Executing op RandomUniform in device /job:localhost/replica:0/task:0/device:GPU:0\n",
      "Executing op VarHandleOp in device /job:localhost/replica:0/task:0/device:GPU:0\n",
      "Executing op VarHandleOp in device /job:localhost/replica:0/task:0/device:GPU:0\n",
      "Executing op VarHandleOp in device /job:localhost/replica:0/task:0/device:GPU:0\n",
      "Executing op AssignVariableOp in device /job:localhost/replica:0/task:0/device:GPU:0\n",
      "Executing op VarHandleOp in device /job:localhost/replica:0/task:0/device:GPU:0\n"
     ]
    }
   ],
   "source": [
    "from keras.models import Sequential\n",
    "from keras.layers import Dense, LSTM\n",
    "\n",
    "with tf.device('/GPU:0'):\n",
    "    model = Sequential()\n",
    "    model.add(LSTM(50,return_sequences=True,input_shape=(X_train.shape[1:])))\n",
    "    model.add(LSTM(50, return_sequences=True))\n",
    "    model.add(LSTM(50))\n",
    "    model.add(Dense(len(columns)))\n",
    "    model.compile(loss='mae',optimizer='Adam')"
   ]
  },
  {
   "cell_type": "code",
   "execution_count": 19,
   "metadata": {
    "scrolled": false
   },
   "outputs": [
    {
     "name": "stdout",
     "output_type": "stream",
     "text": [
      "Model: \"sequential_1\"\n",
      "_________________________________________________________________\n",
      "Layer (type)                 Output Shape              Param #   \n",
      "=================================================================\n",
      "lstm_1 (LSTM)                (None, 6, 50)             11000     \n",
      "_________________________________________________________________\n",
      "lstm_2 (LSTM)                (None, 6, 50)             20200     \n",
      "_________________________________________________________________\n",
      "lstm_3 (LSTM)                (None, 50)                20200     \n",
      "_________________________________________________________________\n",
      "dense_1 (Dense)              (None, 4)                 204       \n",
      "=================================================================\n",
      "Total params: 51,604\n",
      "Trainable params: 51,604\n",
      "Non-trainable params: 0\n",
      "_________________________________________________________________\n",
      "None\n"
     ]
    },
    {
     "data": {
      "text/plain": [
       "{'name': 'sequential_1',\n",
       " 'layers': [{'class_name': 'LSTM',\n",
       "   'config': {'name': 'lstm_1',\n",
       "    'trainable': True,\n",
       "    'batch_input_shape': (None, 6, 4),\n",
       "    'dtype': 'float32',\n",
       "    'return_sequences': True,\n",
       "    'return_state': False,\n",
       "    'go_backwards': False,\n",
       "    'stateful': False,\n",
       "    'unroll': False,\n",
       "    'units': 50,\n",
       "    'activation': 'tanh',\n",
       "    'recurrent_activation': 'sigmoid',\n",
       "    'use_bias': True,\n",
       "    'kernel_initializer': {'class_name': 'VarianceScaling',\n",
       "     'config': {'scale': 1.0,\n",
       "      'mode': 'fan_avg',\n",
       "      'distribution': 'uniform',\n",
       "      'seed': None}},\n",
       "    'recurrent_initializer': {'class_name': 'Orthogonal',\n",
       "     'config': {'gain': 1.0, 'seed': None}},\n",
       "    'bias_initializer': {'class_name': 'Zeros', 'config': {}},\n",
       "    'unit_forget_bias': True,\n",
       "    'kernel_regularizer': None,\n",
       "    'recurrent_regularizer': None,\n",
       "    'bias_regularizer': None,\n",
       "    'activity_regularizer': None,\n",
       "    'kernel_constraint': None,\n",
       "    'recurrent_constraint': None,\n",
       "    'bias_constraint': None,\n",
       "    'dropout': 0.0,\n",
       "    'recurrent_dropout': 0.0,\n",
       "    'implementation': 2}},\n",
       "  {'class_name': 'LSTM',\n",
       "   'config': {'name': 'lstm_2',\n",
       "    'trainable': True,\n",
       "    'dtype': 'float32',\n",
       "    'return_sequences': True,\n",
       "    'return_state': False,\n",
       "    'go_backwards': False,\n",
       "    'stateful': False,\n",
       "    'unroll': False,\n",
       "    'units': 50,\n",
       "    'activation': 'tanh',\n",
       "    'recurrent_activation': 'sigmoid',\n",
       "    'use_bias': True,\n",
       "    'kernel_initializer': {'class_name': 'VarianceScaling',\n",
       "     'config': {'scale': 1.0,\n",
       "      'mode': 'fan_avg',\n",
       "      'distribution': 'uniform',\n",
       "      'seed': None}},\n",
       "    'recurrent_initializer': {'class_name': 'Orthogonal',\n",
       "     'config': {'gain': 1.0, 'seed': None}},\n",
       "    'bias_initializer': {'class_name': 'Zeros', 'config': {}},\n",
       "    'unit_forget_bias': True,\n",
       "    'kernel_regularizer': None,\n",
       "    'recurrent_regularizer': None,\n",
       "    'bias_regularizer': None,\n",
       "    'activity_regularizer': None,\n",
       "    'kernel_constraint': None,\n",
       "    'recurrent_constraint': None,\n",
       "    'bias_constraint': None,\n",
       "    'dropout': 0.0,\n",
       "    'recurrent_dropout': 0.0,\n",
       "    'implementation': 2}},\n",
       "  {'class_name': 'LSTM',\n",
       "   'config': {'name': 'lstm_3',\n",
       "    'trainable': True,\n",
       "    'dtype': 'float32',\n",
       "    'return_sequences': False,\n",
       "    'return_state': False,\n",
       "    'go_backwards': False,\n",
       "    'stateful': False,\n",
       "    'unroll': False,\n",
       "    'units': 50,\n",
       "    'activation': 'tanh',\n",
       "    'recurrent_activation': 'sigmoid',\n",
       "    'use_bias': True,\n",
       "    'kernel_initializer': {'class_name': 'VarianceScaling',\n",
       "     'config': {'scale': 1.0,\n",
       "      'mode': 'fan_avg',\n",
       "      'distribution': 'uniform',\n",
       "      'seed': None}},\n",
       "    'recurrent_initializer': {'class_name': 'Orthogonal',\n",
       "     'config': {'gain': 1.0, 'seed': None}},\n",
       "    'bias_initializer': {'class_name': 'Zeros', 'config': {}},\n",
       "    'unit_forget_bias': True,\n",
       "    'kernel_regularizer': None,\n",
       "    'recurrent_regularizer': None,\n",
       "    'bias_regularizer': None,\n",
       "    'activity_regularizer': None,\n",
       "    'kernel_constraint': None,\n",
       "    'recurrent_constraint': None,\n",
       "    'bias_constraint': None,\n",
       "    'dropout': 0.0,\n",
       "    'recurrent_dropout': 0.0,\n",
       "    'implementation': 2}},\n",
       "  {'class_name': 'Dense',\n",
       "   'config': {'name': 'dense_1',\n",
       "    'trainable': True,\n",
       "    'dtype': 'float32',\n",
       "    'units': 4,\n",
       "    'activation': 'linear',\n",
       "    'use_bias': True,\n",
       "    'kernel_initializer': {'class_name': 'VarianceScaling',\n",
       "     'config': {'scale': 1.0,\n",
       "      'mode': 'fan_avg',\n",
       "      'distribution': 'uniform',\n",
       "      'seed': None}},\n",
       "    'bias_initializer': {'class_name': 'Zeros', 'config': {}},\n",
       "    'kernel_regularizer': None,\n",
       "    'bias_regularizer': None,\n",
       "    'activity_regularizer': None,\n",
       "    'kernel_constraint': None,\n",
       "    'bias_constraint': None}}]}"
      ]
     },
     "execution_count": 19,
     "metadata": {},
     "output_type": "execute_result"
    }
   ],
   "source": [
    "print(model.summary())\n",
    "model.get_config()"
   ]
  },
  {
   "cell_type": "markdown",
   "metadata": {},
   "source": [
    "## 6. Train the Model"
   ]
  },
  {
   "cell_type": "code",
   "execution_count": 20,
   "metadata": {},
   "outputs": [
    {
     "name": "stdout",
     "output_type": "stream",
     "text": [
      "Executing op Fill in device /job:localhost/replica:0/task:0/device:GPU:0\n",
      "Executing op VarHandleOp in device /job:localhost/replica:0/task:0/device:GPU:0\n",
      "Executing op LogicalNot in device /job:localhost/replica:0/task:0/device:GPU:0\n",
      "Executing op Assert in device /job:localhost/replica:0/task:0/device:GPU:0\n",
      "Executing op VarHandleOp in device /job:localhost/replica:0/task:0/device:GPU:0\n",
      "Executing op VarHandleOp in device /job:localhost/replica:0/task:0/device:GPU:0\n",
      "Executing op VarHandleOp in device /job:localhost/replica:0/task:0/device:GPU:0\n",
      "Executing op VarHandleOp in device /job:localhost/replica:0/task:0/device:GPU:0\n",
      "Executing op Reshape in device /job:localhost/replica:0/task:0/device:GPU:0\n",
      "Executing op VarHandleOp in device /job:localhost/replica:0/task:0/device:GPU:0\n",
      "Train on 9478 samples, validate on 3119 samples\n",
      "Epoch 1/50\n",
      "Executing op __inference_keras_scratch_graph_3622 in device /job:localhost/replica:0/task:0/device:GPU:0\n",
      "Executing op __inference_keras_scratch_graph_3926 in device /job:localhost/replica:0/task:0/device:GPU:0\n",
      " - 4s - loss: 0.0149 - val_loss: 0.0144\n",
      "Epoch 2/50\n",
      " - 2s - loss: 0.0143 - val_loss: 0.0143\n",
      "Epoch 3/50\n",
      " - 2s - loss: 0.0142 - val_loss: 0.0141\n",
      "Epoch 4/50\n",
      " - 2s - loss: 0.0141 - val_loss: 0.0139\n",
      "Epoch 5/50\n",
      " - 2s - loss: 0.0141 - val_loss: 0.0138\n",
      "Epoch 6/50\n",
      " - 2s - loss: 0.0141 - val_loss: 0.0138\n",
      "Epoch 7/50\n",
      " - 2s - loss: 0.0139 - val_loss: 0.0137\n",
      "Epoch 8/50\n",
      " - 2s - loss: 0.0139 - val_loss: 0.0137\n",
      "Epoch 9/50\n",
      " - 2s - loss: 0.0138 - val_loss: 0.0137\n",
      "Epoch 10/50\n",
      " - 2s - loss: 0.0138 - val_loss: 0.0137\n",
      "Epoch 11/50\n",
      " - 2s - loss: 0.0137 - val_loss: 0.0136\n",
      "Epoch 12/50\n",
      " - 2s - loss: 0.0137 - val_loss: 0.0136\n",
      "Epoch 13/50\n",
      " - 2s - loss: 0.0137 - val_loss: 0.0136\n",
      "Epoch 14/50\n",
      " - 2s - loss: 0.0136 - val_loss: 0.0136\n",
      "Epoch 15/50\n",
      " - 2s - loss: 0.0136 - val_loss: 0.0135\n",
      "Epoch 16/50\n",
      " - 2s - loss: 0.0136 - val_loss: 0.0135\n",
      "Epoch 17/50\n",
      " - 2s - loss: 0.0135 - val_loss: 0.0135\n",
      "Epoch 18/50\n",
      " - 2s - loss: 0.0135 - val_loss: 0.0135\n",
      "Epoch 19/50\n",
      " - 2s - loss: 0.0135 - val_loss: 0.0135\n",
      "Epoch 20/50\n",
      " - 2s - loss: 0.0135 - val_loss: 0.0135\n",
      "Epoch 21/50\n",
      " - 2s - loss: 0.0135 - val_loss: 0.0134\n",
      "Epoch 22/50\n",
      " - 2s - loss: 0.0134 - val_loss: 0.0135\n",
      "Epoch 23/50\n",
      " - 2s - loss: 0.0134 - val_loss: 0.0134\n",
      "Epoch 24/50\n",
      " - 2s - loss: 0.0134 - val_loss: 0.0135\n",
      "Epoch 25/50\n",
      " - 2s - loss: 0.0134 - val_loss: 0.0135\n",
      "Epoch 26/50\n",
      " - 2s - loss: 0.0133 - val_loss: 0.0135\n",
      "Epoch 27/50\n",
      " - 2s - loss: 0.0133 - val_loss: 0.0135\n",
      "Epoch 28/50\n",
      " - 2s - loss: 0.0134 - val_loss: 0.0135\n",
      "Epoch 29/50\n",
      " - 2s - loss: 0.0133 - val_loss: 0.0134\n",
      "Epoch 30/50\n",
      " - 2s - loss: 0.0133 - val_loss: 0.0134\n",
      "Epoch 31/50\n",
      " - 2s - loss: 0.0133 - val_loss: 0.0134\n",
      "Epoch 32/50\n",
      " - 2s - loss: 0.0133 - val_loss: 0.0134\n",
      "Epoch 33/50\n",
      " - 2s - loss: 0.0133 - val_loss: 0.0134\n",
      "Epoch 34/50\n",
      " - 2s - loss: 0.0133 - val_loss: 0.0134\n",
      "Epoch 35/50\n",
      " - 2s - loss: 0.0133 - val_loss: 0.0134\n",
      "Epoch 36/50\n",
      " - 2s - loss: 0.0133 - val_loss: 0.0135\n",
      "Epoch 37/50\n",
      " - 2s - loss: 0.0133 - val_loss: 0.0135\n",
      "Epoch 38/50\n",
      " - 2s - loss: 0.0133 - val_loss: 0.0135\n",
      "Epoch 39/50\n",
      " - 2s - loss: 0.0133 - val_loss: 0.0135\n",
      "Epoch 40/50\n",
      " - 2s - loss: 0.0133 - val_loss: 0.0135\n",
      "Epoch 41/50\n",
      " - 2s - loss: 0.0133 - val_loss: 0.0135\n",
      "Epoch 42/50\n",
      " - 2s - loss: 0.0133 - val_loss: 0.0135\n",
      "Epoch 43/50\n",
      " - 2s - loss: 0.0133 - val_loss: 0.0135\n",
      "Epoch 44/50\n",
      " - 2s - loss: 0.0133 - val_loss: 0.0135\n",
      "Epoch 45/50\n",
      " - 2s - loss: 0.0133 - val_loss: 0.0135\n",
      "Epoch 46/50\n",
      " - 2s - loss: 0.0133 - val_loss: 0.0135\n",
      "Epoch 47/50\n",
      " - 2s - loss: 0.0133 - val_loss: 0.0135\n",
      "Epoch 48/50\n",
      " - 2s - loss: 0.0133 - val_loss: 0.0135\n",
      "Epoch 49/50\n",
      " - 2s - loss: 0.0133 - val_loss: 0.0135\n",
      "Epoch 50/50\n",
      " - 2s - loss: 0.0133 - val_loss: 0.0135\n"
     ]
    },
    {
     "data": {
      "image/png": "[encoded data removed]",
      "text/plain": [
       "<Figure size 432x288 with 1 Axes>"
      ]
     },
     "metadata": {
      "needs_background": "light"
     },
     "output_type": "display_data"
    }
   ],
   "source": [
    "# fit network\n",
    "history = model.fit(X_train, Y_train, epochs=50, batch_size=72, validation_data=(X_test, Y_test), verbose=2, shuffle=False)\n",
    "# plot history\n",
    "plt.plot(history.history['loss'], label='train')\n",
    "plt.plot(history.history['val_loss'], label='test')\n",
    "plt.legend()\n",
    "plt.show()"
   ]
  },
  {
   "cell_type": "markdown",
   "metadata": {},
   "source": [
    "## 7. Evaluate the Model"
   ]
  },
  {
   "cell_type": "code",
   "execution_count": 21,
   "metadata": {},
   "outputs": [
    {
     "name": "stdout",
     "output_type": "stream",
     "text": [
      "Executing op __inference_keras_scratch_graph_39414 in device /job:localhost/replica:0/task:0/device:GPU:0\n"
     ]
    },
    {
     "data": {
      "text/html": [
       "<div>\n",
       "<style scoped>\n",
       "    .dataframe tbody tr th:only-of-type {\n",
       "        vertical-align: middle;\n",
       "    }\n",
       "\n",
       "    .dataframe tbody tr th {\n",
       "        vertical-align: top;\n",
       "    }\n",
       "\n",
       "    .dataframe thead th {\n",
       "        text-align: right;\n",
       "    }\n",
       "</style>\n",
       "<table border=\"1\" class=\"dataframe\">\n",
       "  <thead>\n",
       "    <tr style=\"text-align: right;\">\n",
       "      <th></th>\n",
       "      <th>Daily Return</th>\n",
       "      <th>Weekly Return</th>\n",
       "      <th>Predicted Daily</th>\n",
       "      <th>Predicted Weekly</th>\n",
       "      <th>Daily HL</th>\n",
       "      <th>Weekly HL</th>\n",
       "    </tr>\n",
       "  </thead>\n",
       "  <tbody>\n",
       "    <tr>\n",
       "      <td>0</td>\n",
       "      <td>0.011468</td>\n",
       "      <td>0.005738</td>\n",
       "      <td>-0.000142</td>\n",
       "      <td>-0.000316</td>\n",
       "      <td>0.014559</td>\n",
       "      <td>0.040394</td>\n",
       "    </tr>\n",
       "    <tr>\n",
       "      <td>1</td>\n",
       "      <td>0.000000</td>\n",
       "      <td>0.015293</td>\n",
       "      <td>0.000368</td>\n",
       "      <td>-0.000006</td>\n",
       "      <td>0.014521</td>\n",
       "      <td>0.038067</td>\n",
       "    </tr>\n",
       "    <tr>\n",
       "      <td>2</td>\n",
       "      <td>0.009380</td>\n",
       "      <td>0.057604</td>\n",
       "      <td>0.000447</td>\n",
       "      <td>0.004023</td>\n",
       "      <td>0.015009</td>\n",
       "      <td>0.042282</td>\n",
       "    </tr>\n",
       "    <tr>\n",
       "      <td>3</td>\n",
       "      <td>0.001753</td>\n",
       "      <td>0.047338</td>\n",
       "      <td>0.000853</td>\n",
       "      <td>-0.001881</td>\n",
       "      <td>0.015769</td>\n",
       "      <td>0.041877</td>\n",
       "    </tr>\n",
       "    <tr>\n",
       "      <td>4</td>\n",
       "      <td>-0.011190</td>\n",
       "      <td>-0.036761</td>\n",
       "      <td>0.000035</td>\n",
       "      <td>-0.003223</td>\n",
       "      <td>0.015274</td>\n",
       "      <td>0.043627</td>\n",
       "    </tr>\n",
       "  </tbody>\n",
       "</table>\n",
       "</div>"
      ],
      "text/plain": [
       "   Daily Return  Weekly Return  Predicted Daily  Predicted Weekly  Daily HL  \\\n",
       "0      0.011468       0.005738        -0.000142         -0.000316  0.014559   \n",
       "1      0.000000       0.015293         0.000368         -0.000006  0.014521   \n",
       "2      0.009380       0.057604         0.000447          0.004023  0.015009   \n",
       "3      0.001753       0.047338         0.000853         -0.001881  0.015769   \n",
       "4     -0.011190      -0.036761         0.000035         -0.003223  0.015274   \n",
       "\n",
       "   Weekly HL  \n",
       "0   0.040394  \n",
       "1   0.038067  \n",
       "2   0.042282  \n",
       "3   0.041877  \n",
       "4   0.043627  "
      ]
     },
     "execution_count": 21,
     "metadata": {},
     "output_type": "execute_result"
    }
   ],
   "source": [
    "Y_predicted = model.predict(X_test)\n",
    "results = pd.DataFrame(Y_test)\n",
    "col1, col2, col3, col4 = [],[],[],[]\n",
    "\n",
    "for pred in Y_predicted:\n",
    "    col1.append(pred[0])\n",
    "    col2.append(pred[1])\n",
    "    col3.append(pred[2])\n",
    "    col4.append(pred[3])\n",
    "\n",
    "results[2], results[3], results[4], results[5] = col1, col2, col3, col4\n",
    "results.columns = ['Daily Return','Weekly Return','Predicted Daily', 'Predicted Weekly', \n",
    "                   'Daily HL', 'Weekly HL']\n",
    "results.head()"
   ]
  },
  {
   "cell_type": "code",
   "execution_count": 22,
   "metadata": {},
   "outputs": [
    {
     "name": "stdout",
     "output_type": "stream",
     "text": [
      "Direction and Magnitude Accuracy Score:  0.05033664636101314\n",
      "Direction Only Accuracy Score:  0.517794164796409\n"
     ]
    }
   ],
   "source": [
    "results['Prop'] = results['Weekly Return']/results['Predicted Weekly']\n",
    "\n",
    "results['Correct'] = results['Prop'].apply(lambda x : 1 if x > 0.5 and x < 2 else 0)\n",
    "results['Correct2'] = (results['Weekly Return']*results['Predicted Weekly']).apply(lambda x : 1 if x > 0 else 0)\n",
    "\n",
    "print('Direction and Magnitude Accuracy Score: ', results.Correct.sum()/results.Correct.count())\n",
    "print('Direction Only Accuracy Score: ', results.Correct2.sum()/results.Correct2.count())"
   ]
  },
  {
   "cell_type": "code",
   "execution_count": 23,
   "metadata": {},
   "outputs": [
    {
     "data": {
      "text/plain": [
       "array([[1.        , 0.14417903],\n",
       "       [0.14417903, 1.        ]])"
      ]
     },
     "execution_count": 23,
     "metadata": {},
     "output_type": "execute_result"
    }
   ],
   "source": [
    "np.corrcoef(results['Weekly Return'], results['Predicted Weekly'])"
   ]
  },
  {
   "cell_type": "code",
   "execution_count": 24,
   "metadata": {},
   "outputs": [
    {
     "name": "stdout",
     "output_type": "stream",
     "text": [
      "Buy Signal:  0.1304932846421082\n",
      "Sell Signal:  -0.07819960906725858\n"
     ]
    }
   ],
   "source": [
    "results['Risk-Reward'] = results['Predicted Weekly']/results['Weekly HL']\n",
    "analyze = results.copy(deep=True)\n",
    "\n",
    "buySignal = analyze['Risk-Reward'].quantile(0.95)\n",
    "sellSignal = analyze['Risk-Reward'].quantile(0.05)\n",
    "\n",
    "print('Buy Signal: ', buySignal)\n",
    "print('Sell Signal: ', sellSignal)"
   ]
  },
  {
   "cell_type": "code",
   "execution_count": 25,
   "metadata": {
    "scrolled": true
   },
   "outputs": [
    {
     "name": "stdout",
     "output_type": "stream",
     "text": [
      "Trade Signal x% of the time:  0.10003206155819173\n"
     ]
    },
    {
     "data": {
      "text/html": [
       "<div>\n",
       "<style scoped>\n",
       "    .dataframe tbody tr th:only-of-type {\n",
       "        vertical-align: middle;\n",
       "    }\n",
       "\n",
       "    .dataframe tbody tr th {\n",
       "        vertical-align: top;\n",
       "    }\n",
       "\n",
       "    .dataframe thead th {\n",
       "        text-align: right;\n",
       "    }\n",
       "</style>\n",
       "<table border=\"1\" class=\"dataframe\">\n",
       "  <thead>\n",
       "    <tr style=\"text-align: right;\">\n",
       "      <th></th>\n",
       "      <th>Daily Return</th>\n",
       "      <th>Weekly Return</th>\n",
       "      <th>Predicted Daily</th>\n",
       "      <th>Predicted Weekly</th>\n",
       "      <th>Daily HL</th>\n",
       "      <th>Weekly HL</th>\n",
       "      <th>Prop</th>\n",
       "      <th>Correct</th>\n",
       "      <th>Correct2</th>\n",
       "      <th>Risk-Reward</th>\n",
       "    </tr>\n",
       "  </thead>\n",
       "  <tbody>\n",
       "    <tr>\n",
       "      <td>5</td>\n",
       "      <td>-0.001884</td>\n",
       "      <td>-0.051227</td>\n",
       "      <td>0.000428</td>\n",
       "      <td>-0.003667</td>\n",
       "      <td>0.015083</td>\n",
       "      <td>0.040241</td>\n",
       "      <td>13.968945</td>\n",
       "      <td>0</td>\n",
       "      <td>1</td>\n",
       "      <td>-0.091131</td>\n",
       "    </tr>\n",
       "    <tr>\n",
       "      <td>7</td>\n",
       "      <td>0.005517</td>\n",
       "      <td>0.027777</td>\n",
       "      <td>0.000074</td>\n",
       "      <td>0.006444</td>\n",
       "      <td>0.016411</td>\n",
       "      <td>0.047318</td>\n",
       "      <td>4.310775</td>\n",
       "      <td>0</td>\n",
       "      <td>1</td>\n",
       "      <td>0.136176</td>\n",
       "    </tr>\n",
       "    <tr>\n",
       "      <td>9</td>\n",
       "      <td>0.007261</td>\n",
       "      <td>-0.016129</td>\n",
       "      <td>-0.000102</td>\n",
       "      <td>-0.002617</td>\n",
       "      <td>0.011242</td>\n",
       "      <td>0.029803</td>\n",
       "      <td>6.164048</td>\n",
       "      <td>0</td>\n",
       "      <td>1</td>\n",
       "      <td>-0.087799</td>\n",
       "    </tr>\n",
       "    <tr>\n",
       "      <td>13</td>\n",
       "      <td>-0.008657</td>\n",
       "      <td>0.028278</td>\n",
       "      <td>0.000337</td>\n",
       "      <td>-0.003166</td>\n",
       "      <td>0.013045</td>\n",
       "      <td>0.031872</td>\n",
       "      <td>-8.931972</td>\n",
       "      <td>0</td>\n",
       "      <td>0</td>\n",
       "      <td>-0.099331</td>\n",
       "    </tr>\n",
       "    <tr>\n",
       "      <td>14</td>\n",
       "      <td>0.001756</td>\n",
       "      <td>0.006970</td>\n",
       "      <td>0.000711</td>\n",
       "      <td>-0.004482</td>\n",
       "      <td>0.013970</td>\n",
       "      <td>0.035000</td>\n",
       "      <td>-1.555323</td>\n",
       "      <td>0</td>\n",
       "      <td>0</td>\n",
       "      <td>-0.128049</td>\n",
       "    </tr>\n",
       "  </tbody>\n",
       "</table>\n",
       "</div>"
      ],
      "text/plain": [
       "    Daily Return  Weekly Return  Predicted Daily  Predicted Weekly  Daily HL  \\\n",
       "5      -0.001884      -0.051227         0.000428         -0.003667  0.015083   \n",
       "7       0.005517       0.027777         0.000074          0.006444  0.016411   \n",
       "9       0.007261      -0.016129        -0.000102         -0.002617  0.011242   \n",
       "13     -0.008657       0.028278         0.000337         -0.003166  0.013045   \n",
       "14      0.001756       0.006970         0.000711         -0.004482  0.013970   \n",
       "\n",
       "    Weekly HL       Prop  Correct  Correct2  Risk-Reward  \n",
       "5    0.040241  13.968945        0         1    -0.091131  \n",
       "7    0.047318   4.310775        0         1     0.136176  \n",
       "9    0.029803   6.164048        0         1    -0.087799  \n",
       "13   0.031872  -8.931972        0         0    -0.099331  \n",
       "14   0.035000  -1.555323        0         0    -0.128049  "
      ]
     },
     "execution_count": 25,
     "metadata": {},
     "output_type": "execute_result"
    }
   ],
   "source": [
    "analyze = analyze[(analyze['Risk-Reward'] > buySignal) | (analyze['Risk-Reward'] <= sellSignal)]\n",
    "print('Trade Signal x% of the time: ', analyze.shape[0]/results.shape[0])\n",
    "analyze.head()"
   ]
  },
  {
   "cell_type": "code",
   "execution_count": 26,
   "metadata": {},
   "outputs": [
    {
     "name": "stdout",
     "output_type": "stream",
     "text": [
      "R^2 Score:  0.04605735707180536\n"
     ]
    }
   ],
   "source": [
    "import sklearn\n",
    "from sklearn.linear_model import LinearRegression\n",
    "\n",
    "X = analyze['Risk-Reward']\n",
    "Y = analyze['Weekly Return']\n",
    "\n",
    "X = np.array(X).reshape(len(X),1)\n",
    "Y = np.array(Y).reshape(len(Y),1)\n",
    "\n",
    "lr = LinearRegression()\n",
    "lr = lr.fit(X,Y)\n",
    "preds = lr.predict(X)\n",
    "\n",
    "from sklearn.metrics import r2_score\n",
    "\n",
    "print('R^2 Score: ', r2_score(Y,preds))"
   ]
  },
  {
   "cell_type": "code",
   "execution_count": 27,
   "metadata": {},
   "outputs": [
    {
     "data": {
      "image/png": "[encoded data removed]",
      "text/plain": [
       "<Figure size 1296x864 with 1 Axes>"
      ]
     },
     "metadata": {
      "needs_background": "light"
     },
     "output_type": "display_data"
    }
   ],
   "source": [
    "plt.figure(figsize=(18,12))\n",
    "time = list(range(0,len(X)))\n",
    "plt.scatter(X,Y,label='Predicted')\n",
    "plt.plot(X,preds,color='r')\n",
    "plt.legend()\n",
    "plt.show()"
   ]
  },
  {
   "cell_type": "markdown",
   "metadata": {},
   "source": [
    "## 8. Profit?"
   ]
  },
  {
   "cell_type": "code",
   "execution_count": 28,
   "metadata": {},
   "outputs": [
    {
     "name": "stdout",
     "output_type": "stream",
     "text": [
      "Annualized Return:  2.426968712241684 %\n"
     ]
    }
   ],
   "source": [
    "portfolio = [1000]\n",
    "hodl = [1000]\n",
    "bpFee = 20\n",
    "feeModifier = 1 - (bpFee / 10000)\n",
    "\n",
    "predicted = results['Predicted Weekly'].tolist()\n",
    "actual = results['Weekly Return'].tolist()\n",
    "riskReward = results['Risk-Reward'].tolist()\n",
    "\n",
    "for prediction in riskReward:\n",
    "    idx = riskReward.index(prediction)\n",
    "    if prediction > buySignal:\n",
    "        today = np.exp(actual[idx])*(portfolio[-1]*feeModifier)\n",
    "    elif prediction > buySignal:\n",
    "        today = np.exp(-actual[idx])*(portfolio[-1]*feeModifier)\n",
    "    else:\n",
    "        today = portfolio[-1]\n",
    "    portfolio.append(today)\n",
    "    \n",
    "    hodl.append(np.exp(actual[idx])*hodl[-1])\n",
    "    \n",
    "print('Annualized Return: ', ((((portfolio[-1]-1000)/1000)+1)**(52/len(portfolio))-1)*100,'%')"
   ]
  },
  {
   "cell_type": "code",
   "execution_count": 29,
   "metadata": {},
   "outputs": [
    {
     "data": {
      "image/png": "[encoded data removed]",
      "text/plain": [
       "<Figure size 1296x864 with 1 Axes>"
      ]
     },
     "metadata": {
      "needs_background": "light"
     },
     "output_type": "display_data"
    }
   ],
   "source": [
    "plt.figure(figsize=(18,12))\n",
    "time = list(range(0,len(portfolio)))\n",
    "plt.plot(time,portfolio,label='Reboot Portfolio')\n",
    "plt.plot(time,hodl,label='Hodl Portfolio')\n",
    "plt.legend()\n",
    "plt.yscale('log')\n",
    "plt.show()"
   ]
  },
  {
   "cell_type": "code",
   "execution_count": 30,
   "metadata": {},
   "outputs": [
    {
     "data": {
      "image/png": "[encoded data removed]",
      "text/plain": [
       "<Figure size 1296x864 with 1 Axes>"
      ]
     },
     "metadata": {
      "needs_background": "light"
     },
     "output_type": "display_data"
    }
   ],
   "source": [
    "plt.figure(figsize=(18,12))\n",
    "time = list(range(0,len(portfolio)))\n",
    "plt.plot(time,portfolio,label='Reboot Portfolio')\n",
    "plt.plot(time,hodl,label='Hodl Portfolio')\n",
    "plt.legend()\n",
    "plt.show()"
   ]
  },
  {
   "cell_type": "code",
   "execution_count": null,
   "metadata": {},
   "outputs": [],
   "source": []
  }
 ],
 "metadata": {
  "kernelspec": {
   "display_name": "Python 3",
   "language": "python",
   "name": "python3"
  },
  "language_info": {
   "codemirror_mode": {
    "name": "ipython",
    "version": 3
   },
   "file_extension": ".py",
   "mimetype": "text/x-python",
   "name": "python",
   "nbconvert_exporter": "python",
   "pygments_lexer": "ipython3",
   "version": "3.7.4"
  }
 },
 "nbformat": 4,
 "nbformat_minor": 2
}
