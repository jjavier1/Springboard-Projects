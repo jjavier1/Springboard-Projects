{
 "cells": [
  {
   "cell_type": "code",
   "execution_count": 1,
   "metadata": {},
   "outputs": [
    {
     "name": "stdout",
     "output_type": "stream",
     "text": [
      "<class 'pandas.core.frame.DataFrame'>\n",
      "RangeIndex: 12000 entries, 0 to 11999\n",
      "Data columns (total 10 columns):\n",
      "object_id                     12000 non-null int64\n",
      "creation_time                 12000 non-null object\n",
      "name                          12000 non-null object\n",
      "email                         12000 non-null object\n",
      "creation_source               12000 non-null object\n",
      "last_session_creation_time    8823 non-null float64\n",
      "opted_in_to_mailing_list      12000 non-null int64\n",
      "enabled_for_marketing_drip    12000 non-null int64\n",
      "org_id                        12000 non-null int64\n",
      "invited_by_user_id            6417 non-null float64\n",
      "dtypes: float64(2), int64(4), object(4)\n",
      "memory usage: 937.6+ KB\n"
     ]
    }
   ],
   "source": [
    "import pandas as pd\n",
    "import numpy as np\n",
    "import datetime\n",
    "import matplotlib.pyplot as plt\n",
    "from hyperopt import fmin, tpe, hp, anneal, Trials\n",
    "from sklearn.model_selection import KFold, cross_val_score\n",
    "from sklearn.linear_model import LogisticRegression\n",
    "from sklearn.ensemble import RandomForestClassifier\n",
    "from imblearn.over_sampling import SMOTE\n",
    "\n",
    "from sklearn.metrics import roc_curve, confusion_matrix, classification_report\n",
    "from sklearn.model_selection import train_test_split, GridSearchCV\n",
    "from sklearn import metrics\n",
    "import re\n",
    "import matplotlib.pyplot as plt\n",
    "from sklearn.metrics import plot_confusion_matrix\n",
    "%matplotlib inline\n",
    "\n",
    "users_df = pd.read_csv('takehome_users.csv',encoding = 'latin-1')\n",
    "users_df.info()"
   ]
  },
  {
   "cell_type": "code",
   "execution_count": 2,
   "metadata": {},
   "outputs": [],
   "source": [
    "users_eng_df = pd.read_csv('takehome_user_engagement.csv',encoding = 'latin-1')"
   ]
  },
  {
   "cell_type": "markdown",
   "metadata": {},
   "source": [
    "In order to be able to use all data, created a column called 'shifted'. That does the following:\n",
    "    \n",
    "    1. Groups all the users together by user_id\n",
    "    2. creates a shifted column\n",
    "    3. shifts their timestamp values 2 places.  \n",
    "    4. Then we convert the two time fields to actual timestamp dtypes\n",
    "    5. We calculate the tiem diff between the time_stamp col and shifted col\n",
    "    5 If that timediff is 3 or less days then add that user to the list.\n",
    "    \n",
    "Break the cell below up into each line and view the df as it gets changed form line to line to better understand."
   ]
  },
  {
   "cell_type": "code",
   "execution_count": 3,
   "metadata": {},
   "outputs": [],
   "source": [
    "users_eng_df['shifted'] = users_eng_df.groupby(['user_id'])['time_stamp'].shift(2)\n",
    "users_eng_df['time_stamp']= pd.to_datetime(users_eng_df['time_stamp'])\n",
    "users_eng_df['shifted']=pd.to_datetime(users_eng_df['shifted'])\n",
    "users_eng_df['time_diff']=users_eng_df['time_stamp']-users_eng_df['shifted']\n",
    "users_eng_df = users_eng_df[users_eng_df['time_diff']<datetime.timedelta(days=3)]\n",
    "user_Ids = users_eng_df.user_id.unique()"
   ]
  },
  {
   "cell_type": "code",
   "execution_count": 4,
   "metadata": {},
   "outputs": [
    {
     "data": {
      "text/plain": [
       "2 days    85469\n",
       "Name: time_diff, dtype: int64"
      ]
     },
     "execution_count": 4,
     "metadata": {},
     "output_type": "execute_result"
    }
   ],
   "source": [
    "users_eng_df.time_diff.value_counts()"
   ]
  },
  {
   "cell_type": "markdown",
   "metadata": {},
   "source": [
    "Manually encode some categorical variables.  For email domain and org_id I only take the make prevalant and\n",
    "then bin the rest.  I also change org_id to object dtype."
   ]
  },
  {
   "cell_type": "code",
   "execution_count": 5,
   "metadata": {
    "scrolled": true
   },
   "outputs": [],
   "source": [
    "users_df['IsInvited'] = users_df['invited_by_user_id'].apply(lambda x: 1 if x.is_integer() else 0)\n",
    "users_df['IsAdoptedUser'] = users_df['object_id'].apply(lambda x: 1 if (x in user_Ids) else 0)\n",
    "users_df['domain'] = users_df['email'].str.extract(r'(@[\\w.]+)')\n",
    "doms = ['@gmail.com', '@yahoo.com', '@jourrapide.com', '@cuvox.de',\n",
    "       '@gustr.com', '@hotmail.com']\n",
    "users_df['domain'] = users_df['domain'].apply(lambda x: x if (x in doms) else 'other')\n",
    "users_df['org_id'] = users_df['org_id'].apply(lambda x: x if (x < 11) else 99)\n",
    "users_df['org_id'].astype = 'object'"
   ]
  },
  {
   "cell_type": "code",
   "execution_count": 6,
   "metadata": {
    "scrolled": true
   },
   "outputs": [],
   "source": [
    "users_df = users_df[['opted_in_to_mailing_list','enabled_for_marketing_drip','domain','creation_source','org_id','IsInvited','IsAdoptedUser']]\n",
    "users_df = pd.get_dummies(users_df,columns=['domain','creation_source','org_id'])"
   ]
  },
  {
   "cell_type": "markdown",
   "metadata": {},
   "source": [
    "create my x and y with pop"
   ]
  },
  {
   "cell_type": "code",
   "execution_count": 7,
   "metadata": {},
   "outputs": [],
   "source": [
    "y =  users_df.pop('IsAdoptedUser')\n",
    "X = users_df"
   ]
  },
  {
   "cell_type": "markdown",
   "metadata": {},
   "source": [
    "use smote to upsample my data to balance the dataset"
   ]
  },
  {
   "cell_type": "code",
   "execution_count": 8,
   "metadata": {},
   "outputs": [],
   "source": [
    "sm = SMOTE(random_state=42)\n",
    "X_res, y_res = sm.fit_resample(X, y)"
   ]
  },
  {
   "cell_type": "code",
   "execution_count": 9,
   "metadata": {},
   "outputs": [],
   "source": [
    "# Create training and test sets\n",
    "X_train, X_test, y_train, y_test = train_test_split(X_res, y_res, test_size = 0.3, random_state=42)"
   ]
  },
  {
   "cell_type": "markdown",
   "metadata": {},
   "source": [
    "The next several cells are for hyperparameter tuning with hyperopt.\n",
    "I could have done gridsearchcv but it would have taken much longer."
   ]
  },
  {
   "cell_type": "code",
   "execution_count": 10,
   "metadata": {},
   "outputs": [],
   "source": [
    "# Create the parameter grid based on the results of random search \n",
    "num_folds=3\n",
    "n_iter=50\n",
    "random_state = 42\n"
   ]
  },
  {
   "cell_type": "code",
   "execution_count": 11,
   "metadata": {},
   "outputs": [],
   "source": [
    "kf = KFold(n_splits=num_folds, random_state=random_state, shuffle=True)"
   ]
  },
  {
   "cell_type": "code",
   "execution_count": 12,
   "metadata": {},
   "outputs": [],
   "source": [
    "def objective_func(params, random_state=random_state, cv=kf, x_train=X_train, y_train=y_train):\n",
    "    # the function gets a set of variable parameters in \"param\"\n",
    "    params = {'n_estimators': int(params['n_estimators']), \n",
    "              'max_depth': int(params['max_depth']),\n",
    "              'max_features': int(params['max_features']),\n",
    "              'min_samples_leaf': int(params['min_samples_leaf']),\n",
    "             'min_samples_split': int(params['min_samples_split'])}\n",
    "    \n",
    "    # we use this params to create a classifier\n",
    "    clf = RandomForestClassifier(random_state=random_state, **params)\n",
    "    \n",
    "    # and then conduct the cross validation with the same folds as before\n",
    "    score = -cross_val_score(clf, x_train, y_train, cv=cv, scoring=\"precision\", n_jobs=-1).mean()\n",
    "\n",
    "    return score"
   ]
  },
  {
   "cell_type": "code",
   "execution_count": 13,
   "metadata": {},
   "outputs": [
    {
     "name": "stdout",
     "output_type": "stream",
     "text": [
      "100%|██████████| 50/50 [05:11<00:00,  6.24s/trial, best loss: -0.6028760252856626]\n",
      "{'max_depth': 20.0, 'max_features': 2.0, 'min_samples_leaf': 2.0, 'min_samples_split': 5.0, 'n_estimators': 176.0}\n",
      "Wall time: 5min 11s\n"
     ]
    }
   ],
   "source": [
    "%%time\n",
    "\n",
    "# possible values of parameters\n",
    "space={'n_estimators': hp.quniform('n_estimators', 100, 5000, 1),\n",
    "       'max_depth' : hp.quniform('max_depth', 2, 20, 1),\n",
    "       'min_samples_split': hp.quniform('min_samples_split', 1, 15, 1),\n",
    "       'max_features': hp.quniform('max_features', 2, 5, 1),\n",
    "       'min_samples_leaf': hp.quniform('min_samples_leaf', 2, 10, 1)\n",
    "      }\n",
    "\n",
    "# trials will contain logging information\n",
    "trials = Trials()\n",
    "\n",
    "best=fmin(fn=objective_func, # function to optimize\n",
    "          space=space, \n",
    "          algo=tpe.suggest, # optimization algorithm, hyperotp will select its parameters automatically\n",
    "          max_evals=n_iter, # maximum number of iterations\n",
    "          trials=trials, # logging\n",
    "          rstate=np.random.RandomState(random_state) # fixing random state for the reproducibility\n",
    "         )\n",
    "\n",
    "print(best)"
   ]
  },
  {
   "cell_type": "markdown",
   "metadata": {},
   "source": [
    "End HPO"
   ]
  },
  {
   "cell_type": "markdown",
   "metadata": {},
   "source": [
    "Build model with best params"
   ]
  },
  {
   "cell_type": "code",
   "execution_count": 14,
   "metadata": {},
   "outputs": [
    {
     "name": "stdout",
     "output_type": "stream",
     "text": [
      "model score: 0.635\n"
     ]
    }
   ],
   "source": [
    "model_grid = RandomForestClassifier(random_state=random_state, n_estimators=int(best['n_estimators']),\n",
    "                              min_samples_leaf=int(best['min_samples_leaf']),\n",
    "                              max_features=int(best['max_features']),\n",
    "                      max_depth=int(best['max_depth']),min_samples_split=int(best['min_samples_split']))\n",
    "model_grid.fit(X_train,y_train)\n",
    "print(\"model score: %.3f\" % model_grid.score(X_test, y_test))"
   ]
  },
  {
   "cell_type": "code",
   "execution_count": 20,
   "metadata": {
    "scrolled": true
   },
   "outputs": [
    {
     "data": {
      "image/png": "[encoded data removed]",
      "text/plain": [
       "<Figure size 432x288 with 1 Axes>"
      ]
     },
     "metadata": {
      "needs_background": "light"
     },
     "output_type": "display_data"
    }
   ],
   "source": [
    "y_pred_prob = model_grid.predict_proba(X_test)[::,1]\n",
    "fpr, tpr, _ = metrics.roc_curve(y_test,  y_pred_proba)\n",
    "auc = metrics.roc_auc_score(y_test, y_pred_proba)\n",
    "plt.plot(fpr,tpr,label=\"data 1, auc=\"+str(auc))\n",
    "plt.xlabel('FPR')\n",
    "plt.ylabel('TPR')\n",
    "plt.plot([0, 1], [0, 1], 'k--')\n",
    "plt.legend(loc=4)\n",
    "plt.show()"
   ]
  },
  {
   "cell_type": "code",
   "execution_count": 16,
   "metadata": {},
   "outputs": [],
   "source": [
    "y_pred = model_grid.predict(X_test)"
   ]
  },
  {
   "cell_type": "code",
   "execution_count": 21,
   "metadata": {},
   "outputs": [
    {
     "data": {
      "text/plain": [
       "0.6906904072033442"
      ]
     },
     "execution_count": 21,
     "metadata": {},
     "output_type": "execute_result"
    }
   ],
   "source": [
    "from sklearn import metrics\n",
    "metrics.roc_auc_score(y_test, y_pred_prob)"
   ]
  },
  {
   "cell_type": "code",
   "execution_count": 22,
   "metadata": {},
   "outputs": [
    {
     "name": "stdout",
     "output_type": "stream",
     "text": [
      "              precision    recall  f1-score   support\n",
      "\n",
      "           0       0.69      0.49      0.57      3246\n",
      "           1       0.60      0.78      0.68      3221\n",
      "\n",
      "    accuracy                           0.63      6467\n",
      "   macro avg       0.65      0.64      0.63      6467\n",
      "weighted avg       0.65      0.63      0.63      6467\n",
      "\n"
     ]
    }
   ],
   "source": [
    "print(classification_report(y_test, y_pred))"
   ]
  },
  {
   "cell_type": "code",
   "execution_count": 23,
   "metadata": {},
   "outputs": [
    {
     "data": {
      "image/png": "[encoded data removed]",
      "text/plain": [
       "<Figure size 432x288 with 2 Axes>"
      ]
     },
     "metadata": {
      "needs_background": "light"
     },
     "output_type": "display_data"
    }
   ],
   "source": [
    "plot_confusion_matrix(model_grid, X_test, y_test)  \n",
    "plt.show()  # doctest: +SKIP"
   ]
  },
  {
   "cell_type": "code",
   "execution_count": 24,
   "metadata": {},
   "outputs": [
    {
     "data": {
      "text/html": [
       "<div>\n",
       "<style scoped>\n",
       "    .dataframe tbody tr th:only-of-type {\n",
       "        vertical-align: middle;\n",
       "    }\n",
       "\n",
       "    .dataframe tbody tr th {\n",
       "        vertical-align: top;\n",
       "    }\n",
       "\n",
       "    .dataframe thead th {\n",
       "        text-align: right;\n",
       "    }\n",
       "</style>\n",
       "<table border=\"1\" class=\"dataframe\">\n",
       "  <thead>\n",
       "    <tr style=\"text-align: right;\">\n",
       "      <th></th>\n",
       "      <th>importance</th>\n",
       "    </tr>\n",
       "  </thead>\n",
       "  <tbody>\n",
       "    <tr>\n",
       "      <td>org_id_0</td>\n",
       "      <td>0.089034</td>\n",
       "    </tr>\n",
       "    <tr>\n",
       "      <td>enabled_for_marketing_drip</td>\n",
       "      <td>0.083877</td>\n",
       "    </tr>\n",
       "    <tr>\n",
       "      <td>creation_source_PERSONAL_PROJECTS</td>\n",
       "      <td>0.075168</td>\n",
       "    </tr>\n",
       "    <tr>\n",
       "      <td>opted_in_to_mailing_list</td>\n",
       "      <td>0.072260</td>\n",
       "    </tr>\n",
       "    <tr>\n",
       "      <td>org_id_1</td>\n",
       "      <td>0.068972</td>\n",
       "    </tr>\n",
       "    <tr>\n",
       "      <td>org_id_99</td>\n",
       "      <td>0.054343</td>\n",
       "    </tr>\n",
       "    <tr>\n",
       "      <td>org_id_2</td>\n",
       "      <td>0.045140</td>\n",
       "    </tr>\n",
       "    <tr>\n",
       "      <td>org_id_3</td>\n",
       "      <td>0.037731</td>\n",
       "    </tr>\n",
       "    <tr>\n",
       "      <td>domain_@yahoo.com</td>\n",
       "      <td>0.035962</td>\n",
       "    </tr>\n",
       "    <tr>\n",
       "      <td>org_id_4</td>\n",
       "      <td>0.034834</td>\n",
       "    </tr>\n",
       "    <tr>\n",
       "      <td>org_id_6</td>\n",
       "      <td>0.031815</td>\n",
       "    </tr>\n",
       "    <tr>\n",
       "      <td>creation_source_GUEST_INVITE</td>\n",
       "      <td>0.030910</td>\n",
       "    </tr>\n",
       "    <tr>\n",
       "      <td>creation_source_SIGNUP</td>\n",
       "      <td>0.027870</td>\n",
       "    </tr>\n",
       "    <tr>\n",
       "      <td>domain_@gmail.com</td>\n",
       "      <td>0.027818</td>\n",
       "    </tr>\n",
       "    <tr>\n",
       "      <td>domain_@cuvox.de</td>\n",
       "      <td>0.027738</td>\n",
       "    </tr>\n",
       "    <tr>\n",
       "      <td>domain_@hotmail.com</td>\n",
       "      <td>0.026391</td>\n",
       "    </tr>\n",
       "    <tr>\n",
       "      <td>org_id_8</td>\n",
       "      <td>0.024342</td>\n",
       "    </tr>\n",
       "    <tr>\n",
       "      <td>domain_@jourrapide.com</td>\n",
       "      <td>0.023825</td>\n",
       "    </tr>\n",
       "    <tr>\n",
       "      <td>org_id_5</td>\n",
       "      <td>0.023690</td>\n",
       "    </tr>\n",
       "    <tr>\n",
       "      <td>creation_source_ORG_INVITE</td>\n",
       "      <td>0.023591</td>\n",
       "    </tr>\n",
       "    <tr>\n",
       "      <td>org_id_9</td>\n",
       "      <td>0.023584</td>\n",
       "    </tr>\n",
       "    <tr>\n",
       "      <td>IsInvited</td>\n",
       "      <td>0.021553</td>\n",
       "    </tr>\n",
       "    <tr>\n",
       "      <td>org_id_10</td>\n",
       "      <td>0.020606</td>\n",
       "    </tr>\n",
       "    <tr>\n",
       "      <td>domain_other</td>\n",
       "      <td>0.020049</td>\n",
       "    </tr>\n",
       "    <tr>\n",
       "      <td>domain_@gustr.com</td>\n",
       "      <td>0.019910</td>\n",
       "    </tr>\n",
       "    <tr>\n",
       "      <td>org_id_7</td>\n",
       "      <td>0.015476</td>\n",
       "    </tr>\n",
       "    <tr>\n",
       "      <td>creation_source_SIGNUP_GOOGLE_AUTH</td>\n",
       "      <td>0.013509</td>\n",
       "    </tr>\n",
       "  </tbody>\n",
       "</table>\n",
       "</div>"
      ],
      "text/plain": [
       "                                    importance\n",
       "org_id_0                              0.089034\n",
       "enabled_for_marketing_drip            0.083877\n",
       "creation_source_PERSONAL_PROJECTS     0.075168\n",
       "opted_in_to_mailing_list              0.072260\n",
       "org_id_1                              0.068972\n",
       "org_id_99                             0.054343\n",
       "org_id_2                              0.045140\n",
       "org_id_3                              0.037731\n",
       "domain_@yahoo.com                     0.035962\n",
       "org_id_4                              0.034834\n",
       "org_id_6                              0.031815\n",
       "creation_source_GUEST_INVITE          0.030910\n",
       "creation_source_SIGNUP                0.027870\n",
       "domain_@gmail.com                     0.027818\n",
       "domain_@cuvox.de                      0.027738\n",
       "domain_@hotmail.com                   0.026391\n",
       "org_id_8                              0.024342\n",
       "domain_@jourrapide.com                0.023825\n",
       "org_id_5                              0.023690\n",
       "creation_source_ORG_INVITE            0.023591\n",
       "org_id_9                              0.023584\n",
       "IsInvited                             0.021553\n",
       "org_id_10                             0.020606\n",
       "domain_other                          0.020049\n",
       "domain_@gustr.com                     0.019910\n",
       "org_id_7                              0.015476\n",
       "creation_source_SIGNUP_GOOGLE_AUTH    0.013509"
      ]
     },
     "execution_count": 24,
     "metadata": {},
     "output_type": "execute_result"
    }
   ],
   "source": [
    "feature_importances = pd.DataFrame(model_grid.feature_importances_,\n",
    "                                   index = X_train.columns,\n",
    "                                    columns=['importance']).sort_values('importance',  ascending=False)\n",
    "feature_importances"
   ]
  },
  {
   "cell_type": "code",
   "execution_count": null,
   "metadata": {},
   "outputs": [],
   "source": []
  }
 ],
 "metadata": {
  "kernelspec": {
   "display_name": "Python 3",
   "language": "python",
   "name": "python3"
  },
  "language_info": {
   "codemirror_mode": {
    "name": "ipython",
    "version": 3
   },
   "file_extension": ".py",
   "mimetype": "text/x-python",
   "name": "python",
   "nbconvert_exporter": "python",
   "pygments_lexer": "ipython3",
   "version": "3.7.4"
  }
 },
 "nbformat": 4,
 "nbformat_minor": 2
}
